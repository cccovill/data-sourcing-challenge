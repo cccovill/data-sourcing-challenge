{
 "cells": [
  {
   "cell_type": "markdown",
   "metadata": {},
   "source": [
    "### Import Required Libraries and Set Up Environment Variables"
   ]
  },
  {
   "cell_type": "code",
   "execution_count": null,
   "metadata": {},
   "outputs": [],
   "source": [
    "# Dependencies\n",
    "import requests\n",
    "import time\n",
    "from dotenv import load_dotenv\n",
    "import os\n",
    "import pandas as pd\n",
    "import json"
   ]
  },
  {
   "cell_type": "code",
   "execution_count": null,
   "metadata": {},
   "outputs": [],
   "source": [
    "# Set environment variables from the .env in the local environment\n",
    "load_dotenv()\n",
    "\n",
    "nyt_api_key = os.getenv(\"NYT_API_KEY\")\n",
    "tmdb_api_key = os.getenv(\"TMDB_API_KEY\")\n",
    "#type(nyt_api_key)\n",
    "type(tmdb_api_key)"
   ]
  },
  {
   "cell_type": "markdown",
   "metadata": {},
   "source": [
    "### Access the New York Times API"
   ]
  },
  {
   "cell_type": "code",
   "execution_count": null,
   "metadata": {},
   "outputs": [],
   "source": [
    "# Set the base URL\n",
    "url = \"https://api.nytimes.com/svc/search/v2/articlesearch.json?\"\n",
    "\n",
    "# Filter for movie reviews with \"love\" in the headline\n",
    "# section_name should be \"Movies\"\n",
    "# type_of_material should be \"Review\"\n",
    "filter_query = 'section_name:\"Movies\" AND type_of_material:\"Review\" AND headline:\"love\"'\n",
    "\n",
    "# Use a sort filter, sort by newest\n",
    "sort = \"newest\"\n",
    "\n",
    "# Select the following fields to return:\n",
    "# headline, web_url, snippet, source, keywords, pub_date, byline, word_count\n",
    "field_list = \"headline,web_url,snippet,source,keywords,pub_date,byline,word_count\"\n",
    "\n",
    "# Search for reviews published between a begin and end date\n",
    "begin_date = \"20130101\"\n",
    "end_date = \"20230531\"\n",
    "\n",
    "# Build URL\n",
    "pagect = str(0)\n",
    "query_url = url + \"api-key=\" + nyt_api_key + \"&fq=\" + filter_query + \"&sort=\" + sort + \"&begin_date=\" + begin_date \\\n",
    "                + \"&end_date=\" + end_date + \"&fl=\" + field_list \n",
    "query_url"
   ]
  },
  {
   "cell_type": "code",
   "execution_count": null,
   "metadata": {},
   "outputs": [],
   "source": [
    "# Create an empty list to store the reviews\n",
    "\n",
    "articles_list = []\n",
    "pagect = 0\n",
    "article_count = 0\n",
    "\n",
    "# loop through pages 0-19\n",
    "\n",
    "    # create query with a page number\n",
    "    # API results show 10 articles at a time\n",
    "\n",
    "    \n",
    "    # Make a \"GET\" request and retrieve the JSON\n",
    "\n",
    "    \n",
    "    # Add a twelve second interval between queries to stay within API query limits\n",
    "\n",
    "    \n",
    "    # Try and save the reviews to the reviews_list\n",
    "\n",
    "        # loop through the reviews[\"response\"][\"docs\"] and append each review to the list\n",
    "\n",
    "        # Print the page that was just retrieved\n",
    "\n",
    "\n",
    "        # Print the page number that had no results then break from the loop\n",
    "articles  = requests.get(query_url).json()\n",
    "print (f' Page {pagect} retrieved')\n",
    "while pagect < 19 and articles[\"response\"][\"docs\"] != []:\n",
    "    for article in articles[\"response\"][\"docs\"]:\n",
    "        articles_list.append(article) \n",
    "        article_count += 1   \n",
    "    pagect += 1\n",
    "    time.sleep(12)\n",
    "    query_url_page = f\"{query_url}&page={str(pagect)}\"\n",
    "#    print (f' {query_url_page}')\n",
    "    articles  = requests.get(query_url_page).json()\n",
    "    print (f' Page {pagect} retrieved with {article_count} articles stored.')\n",
    "if articles[\"response\"][\"docs\"] == []:\n",
    "    print (f'This page number -{pagect}- did not have any results. ')\n",
    "else:\n",
    "    print (f'Saving final group of articles on final page...')\n",
    "    for article in articles[\"response\"][\"docs\"]:\n",
    "        articles_list.append(article) \n",
    "        article_count += 1 \n",
    "print (f'Operation complete.  Total of {article_count} articles stored.')        \n",
    "    \n",
    "\n"
   ]
  },
  {
   "cell_type": "code",
   "execution_count": null,
   "metadata": {},
   "outputs": [],
   "source": [
    "# Preview the first 5 results in JSON format\n",
    "# Use json.dumps with argument indent=4 to format data\n",
    "print(json.dumps(articles_list, indent=4))\n"
   ]
  },
  {
   "cell_type": "code",
   "execution_count": null,
   "metadata": {},
   "outputs": [],
   "source": [
    "# Convert reviews_list to a Pandas DataFrame using json_normalize()\n",
    "articles_normalized_df = pd.json_normalize(articles_list)\n",
    "articles_normalized_df\n"
   ]
  },
  {
   "cell_type": "code",
   "execution_count": null,
   "metadata": {},
   "outputs": [],
   "source": [
    "# Extract the title from the \"headline.main\" column and\n",
    "# save it to a new column \"title\"\n",
    "# Title is between unicode characters \\u2018 and \\u2019. \n",
    "# End string should include \" Review\" to avoid cutting title early\n",
    "articles_normalized_df['title'] = articles_normalized_df['headline.main'].apply(lambda st: st[st.find(\"\\u2018\")+1:st.find(\"\\u2019 Review\")])\n",
    "articles_normalized_df\n"
   ]
  },
  {
   "cell_type": "code",
   "execution_count": null,
   "metadata": {},
   "outputs": [],
   "source": [
    "# Extract 'name' and 'value' from items in \"keywords\" column\n",
    "def extract_keywords(keyword_list):\n",
    "    extracted_keywords = \"\"\n",
    "    for item in keyword_list:\n",
    "        # Extract 'name' and 'value'\n",
    "        keyword = f\"{item['name']}: {item['value']};\" \n",
    "        # Append the keyword item to the extracted_keywords list\n",
    "        extracted_keywords += keyword\n",
    "    return extracted_keywords\n",
    "\n",
    "\n",
    "# Fix the \"keywords\" column by converting cells from a list to a string\n",
    "\n",
    "articles_normalized_df['keywords'] = articles_normalized_df['keywords'].apply(lambda x: extract_keywords(x))\n",
    "articles_normalized_df\n",
    "\n"
   ]
  },
  {
   "cell_type": "code",
   "execution_count": null,
   "metadata": {
    "scrolled": true
   },
   "outputs": [],
   "source": [
    "# Create a list from the \"title\" column using to_list()\n",
    "# These titles will be used in the query for The Movie Database\n",
    "title_list = []\n",
    "title_list = articles_normalized_df[\"title\"].to_list()\n",
    "title_list"
   ]
  },
  {
   "cell_type": "markdown",
   "metadata": {},
   "source": [
    "### Access The Movie Database API"
   ]
  },
  {
   "cell_type": "code",
   "execution_count": null,
   "metadata": {},
   "outputs": [],
   "source": [
    "# Prepare The Movie Database query\n",
    "url = \"https://api.themoviedb.org/3/search/movie?query=\"\n",
    "tmdb_key_string = \"&api_key=\" + tmdb_api_key\n",
    "movie_title = 'The Attachment Diaries'\n",
    "\n",
    "query_url = url + movie_title + tmdb_key_string\n",
    "query_url\n",
    "\n",
    "urlmid = \"https://api.themoviedb.org/3/movie/\"\n",
    "tmdb_key_string2 =\"?api_key=\" + tmdb_api_key\n",
    "movie_id = '743040'\n",
    "\n",
    "query_url_mid = urlmid + movie_id + tmdb_key_string2\n",
    "\n",
    "#query_url_mid\n",
    "query_url\n"
   ]
  },
  {
   "cell_type": "code",
   "execution_count": null,
   "metadata": {},
   "outputs": [],
   "source": [
    "# Create an empty list to store the results\n",
    "\n",
    "tmdb_movies_list = []\n",
    "dicofflicks = []\n",
    "\n",
    "\n",
    "# Create a request counter to sleep the requests after a multiple\n",
    "# of 50 requests\n",
    "\n",
    "request_counter = 1\n",
    "\n",
    "# Loop through the titles\n",
    "for title in title_list:\n",
    "    movie_title = title\n",
    "    query_url = url + movie_title + tmdb_key_string\n",
    "    listofgenres = []\n",
    "    listoflang = []\n",
    "    countrylist = []\n",
    "    # Perform a \"GET\" request for The Movie Database\n",
    "\n",
    "       # Include a try clause to search for the full movie details.\n",
    "    # Use the except clause to print out a statement if a movie\n",
    "    # is not found.\n",
    "\n",
    "    try:\n",
    "        movie  = requests.get(query_url).json()\n",
    "        if movie[\"results\"] != []:        \n",
    "            tmdb_movies_list.append(movie)\n",
    "        # Print out the title that was found\n",
    "            print(f'This movie title was found...{movie_title}')\n",
    "        # We have a valid movie title here.  Let's get the details....\n",
    "        # Get movie id\n",
    "            movie_id = str(movie['results'][0]['id'])\n",
    "        #    print(f'Extracted movie id = {movie_id}')\n",
    "\n",
    "        # Make a request for a the full movie details\n",
    "\n",
    "            query_url_mid = urlmid + movie_id + tmdb_key_string2\n",
    "        \n",
    "        # Execute \"GET\" request with url\n",
    "            try:\n",
    "                movie  = requests.get(query_url_mid).json()  # get full movie details\n",
    "                if movie != []:\n",
    "            #    tmdb_full_movies_list.append(movie)  # save away for now\n",
    "            #        print(f'Full movie details obtained for {movie_id}')\n",
    "\n",
    "                # Extract the genre names into a list        \n",
    "                    for x in range(len(movie['genres'])):\n",
    "                        listofgenres.append(movie['genres'][x]['name'])\n",
    "            #        print(f'{listofgenres}')\n",
    "            #       \n",
    "                # Extract the spoken_languages' English name into a list    \n",
    "                    for x in range(len(movie['spoken_languages'])):\n",
    "                        listoflang.append(movie['spoken_languages'][x]['english_name'])\n",
    "            #        print(f'{listoflang}')\n",
    "            #\n",
    "                # Extract the production_countries' name into a list\n",
    "                    for x in range(len(movie['production_countries'])):\n",
    "                        countrylist.append(movie['production_countries'][x]['name'])\n",
    "            #        print(f'{countrylist}')\n",
    "            #\n",
    "                # Add the relevant data to a dictionary\n",
    "                    dicofflicks.append({    \n",
    "                                \"title\": movie_title,    \n",
    "                                \"original_title\": movie['original_title'],\n",
    "                                \"homepage\": movie['homepage'],\n",
    "                                \"overview\": movie['overview'],\n",
    "                                \"popularity\": movie['popularity'],\n",
    "                                \"runtime\": movie['runtime'],\n",
    "                                \"revenue\": movie['revenue'],\n",
    "                                \"release_date\": movie['release_date'],\n",
    "                                \"vote_average\": movie['vote_average'],\n",
    "                                \"vote_count\": movie['vote_count'],\n",
    "                                \"genres\":listofgenres,\n",
    "                                \"spoken_languages\":listoflang,\n",
    "                                \"production_countries\":countrylist\n",
    "                                })\n",
    "                #    print(f'{dicofflicks}')\n",
    "                else:             \n",
    "                    print(f' No Movie found for movie id {movie_id}')\n",
    "            except: \n",
    "                if movie == []:\n",
    "                    print(f' No Movie found for movie id {movie_id}')\n",
    "                else:\n",
    "                    print(f' Exception occurred.  Program attempting to continue.')\n",
    "        else:\n",
    "            print(f'Movie Title Not Found...{movie_title}')\n",
    "    except:\n",
    "        if movie[\"results\"] == []:      \n",
    "            print(f'Movie Title Not Found...{movie_title}')\n",
    "        else:\n",
    "            print(f' Exception occurred.  Program attempting to continue.')            \n",
    "    # Check if we need to sleep before making a request\n",
    "    if request_counter % 50 == 0:\n",
    "        print('')\n",
    "        print (f' {request_counter} requests have completed, taking a breather.')\n",
    "        print('')\n",
    "        time.sleep(1)\n",
    "        request_counter += 1\n",
    "    else:\n",
    "        request_counter += 1\n",
    "        # Add 1 to the request counter \n",
    "\n",
    "\n",
    "        # Add the relevant data to a dictionary and\n",
    "        # append it to the tmdb_movies_list list\n",
    "\n",
    "tmdb_movies_list.append(dicofflicks)\n",
    "\n",
    "\n"
   ]
  },
  {
   "cell_type": "code",
   "execution_count": null,
   "metadata": {},
   "outputs": [],
   "source": [
    "# Preview the first 5 results in JSON format\n",
    "# Use json.dumps with argument indent=4 to format data\n",
    "print(json.dumps(dicofflicks, indent=4))"
   ]
  },
  {
   "cell_type": "code",
   "execution_count": null,
   "metadata": {},
   "outputs": [],
   "source": [
    "# Convert the results to a DataFrame\n",
    "tmdb_df = pd.DataFrame(dicofflicks)\n"
   ]
  },
  {
   "cell_type": "markdown",
   "metadata": {},
   "source": [
    "### Merge and Clean the Data for Export"
   ]
  },
  {
   "cell_type": "code",
   "execution_count": null,
   "metadata": {
    "scrolled": true
   },
   "outputs": [],
   "source": [
    "# Merge the New York Times reviews and TMDB DataFrames on title\n",
    "# merged_df = articles_normalized_df.merge(tmdb_df, on='title')\n",
    "merged_df = tmdb_df.merge(articles_normalized_df, on='title')\n",
    "merged_df.head()"
   ]
  },
  {
   "cell_type": "code",
   "execution_count": 25,
   "metadata": {},
   "outputs": [],
   "source": [
    "# Remove list brackets and quotation marks on the columns containing lists\n",
    "# Create a list of the columns that need fixing\n",
    "columns_to_fix = ['genres', 'spoken_languages', 'production_countries']\n",
    "\n",
    "\n",
    "# Create a list of characters to remove\n",
    "\n",
    "\n",
    "def weedout(list_entry):  # weedout the special chars --> }{' <--\n",
    "    characters_to_remove = ['[', ']', \"'\"]\n",
    "    work = str(list_entry)\n",
    "    for y in characters_to_remove:\n",
    "            result = work.replace(y,\"\")\n",
    "            work = result\n",
    "    return work\n",
    "      \n",
    "def coltype(col):      # function to convert column to string\n",
    "        merged_df.astype({col: \"string\"})    \n",
    "\n",
    "    # Convert the column to type 'str'\n",
    "\n",
    "for col in columns_to_fix:   # Iterate through to convert columns to string\n",
    "        coltype(col)\n",
    "\n",
    "   # Loop through characters to remove\n",
    "\n",
    "for col in columns_to_fix:\n",
    "        merged_df[col] = merged_df[col].apply(lambda row: weedout(row))\n",
    "        \n",
    "\n",
    "\n",
    "\n",
    "# Display the fixed DataFrame\n",
    "\n",
    "merged_df.head()\n"
   ]
  },
  {
   "cell_type": "code",
   "execution_count": null,
   "metadata": {},
   "outputs": [],
   "source": [
    "#print (f'{merged_df[ \"genres\"]}')\n",
    "#print (f'{merged_df[\"spoken_languages\"]}')\n",
    "#print (f'{merged_df[\"production_countries\"]}')\n",
    "merged_df.head()\n",
    "#merged_df.columns\n",
    "\n",
    "\n",
    "\n"
   ]
  },
  {
   "cell_type": "code",
   "execution_count": null,
   "metadata": {},
   "outputs": [],
   "source": [
    "# Drop \"byline.person\" column\n",
    "cleaned_df = merged_df.drop(\"byline.person\", axis=1)"
   ]
  },
  {
   "cell_type": "code",
   "execution_count": null,
   "metadata": {},
   "outputs": [],
   "source": [
    "# Delete duplicate rows and reset index\n",
    "cleaned_df.drop_duplicates\n",
    "cleaned_df.reset_index()\n"
   ]
  },
  {
   "cell_type": "code",
   "execution_count": 27,
   "metadata": {},
   "outputs": [],
   "source": [
    "# Export data to CSV without the index\n",
    "from pathlib import Path  \n",
    "\n",
    "filepath = Path('./MovieData.csv')  \n",
    "  \n",
    "\n",
    "cleaned_df.to_csv(filepath, index=False)  "
   ]
  }
 ],
 "metadata": {
  "kernelspec": {
   "display_name": "Python 3 (ipykernel)",
   "language": "python",
   "name": "python3"
  },
  "language_info": {
   "codemirror_mode": {
    "name": "ipython",
    "version": 3
   },
   "file_extension": ".py",
   "mimetype": "text/x-python",
   "name": "python",
   "nbconvert_exporter": "python",
   "pygments_lexer": "ipython3",
   "version": "3.10.13"
  },
  "varInspector": {
   "cols": {
    "lenName": 16,
    "lenType": 16,
    "lenVar": 40
   },
   "kernels_config": {
    "python": {
     "delete_cmd_postfix": "",
     "delete_cmd_prefix": "del ",
     "library": "var_list.py",
     "varRefreshCmd": "print(var_dic_list())"
    },
    "r": {
     "delete_cmd_postfix": ") ",
     "delete_cmd_prefix": "rm(",
     "library": "var_list.r",
     "varRefreshCmd": "cat(var_dic_list()) "
    }
   },
   "types_to_exclude": [
    "module",
    "function",
    "builtin_function_or_method",
    "instance",
    "_Feature"
   ],
   "window_display": false
  }
 },
 "nbformat": 4,
 "nbformat_minor": 2
}
